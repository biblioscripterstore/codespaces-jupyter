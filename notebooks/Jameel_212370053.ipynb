{
 "cells": [
  {
   "cell_type": "code",
   "execution_count": null,
   "metadata": {},
   "outputs": [],
   "source": [
    "import matplotlib.pyplot as plt\n",
    "print(plt)"
   ]
  },
  {
   "cell_type": "code",
   "execution_count": null,
   "metadata": {},
   "outputs": [],
   "source": [
    "x = ['a', 'b', 'c', 'd']\n",
    "y = [1, 2, 3, 4]\n",
    "colors = ['r', 'g', 'b', 'y']\n",
    "\n",
    "plt.xlabel(\"Characters\", fontsize=14)\n",
    "plt.ylabel(\"Numbers\", fontsize=14)\n",
    "plt.title(\"Comparison\", fontsize=24)\n",
    "plt.bar(\n",
    "    x, \n",
    "    y, \n",
    "    width=0.5, \n",
    "    color=colors, \n",
    "    alpha=0.9, \n",
    "    align=\"edge\", \n",
    "    edgecolor=\"b\", \n",
    "    linewidth=2, \n",
    "    linestyle=\"--\",\n",
    "    label=\"popularity\"\n",
    ")\n",
    "plt.legend()\n",
    "plt.show()"
   ]
  }
 ],
 "metadata": {
  "kernelspec": {
   "display_name": "Python 3",
   "language": "python",
   "name": "python3"
  },
  "language_info": {
   "codemirror_mode": {
    "name": "ipython",
    "version": 3
   },
   "file_extension": ".py",
   "mimetype": "text/x-python",
   "name": "python",
   "nbconvert_exporter": "python",
   "pygments_lexer": "ipython3",
   "version": "3.10.13"
  }
 },
 "nbformat": 4,
 "nbformat_minor": 2
}
