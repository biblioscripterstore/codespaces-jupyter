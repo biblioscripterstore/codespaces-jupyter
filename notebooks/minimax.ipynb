{
 "cells": [
  {
   "cell_type": "code",
   "execution_count": 4,
   "metadata": {},
   "outputs": [
    {
     "name": "stdout",
     "output_type": "stream",
     "text": [
      "Number of nodes in the tree: 3\n",
      "Minimax value of node 0: 1\n",
      "Minimax value of node 1: 2\n",
      "Minimax value of node 2: -inf\n"
     ]
    }
   ],
   "source": [
    "def minimax(node, depth, maximizing_player, values):\n",
    "    if depth == 0 or node >= len(values):\n",
    "        return values[node]\n",
    "    \n",
    "    if maximizing_player:\n",
    "        max_eval = float('-inf')\n",
    "        for child in range(node * branching_factor, min((node * branching_factor) + branching_factor, len(values))):\n",
    "            eval = minimax(child, depth - 1, False, values)\n",
    "            max_eval = max(max_eval, eval)\n",
    "        return max_eval\n",
    "    else:\n",
    "        min_eval = float('inf')\n",
    "        for child in range(node * branching_factor, min((node * branching_factor) + branching_factor, len(values))):\n",
    "            eval = minimax(child, depth - 1, True, values)\n",
    "            min_eval = min(min_eval, eval)\n",
    "        return min_eval\n",
    "\n",
    "depth = int(input(\"Enter the depth of the tree: \"))\n",
    "branching_factor = int(input(\"Enter the branching factor of the tree: \"))\n",
    "\n",
    "num_nodes = sum([branching_factor ** d for d in range(depth + 1)])\n",
    "print(f\"Number of nodes in the tree: {num_nodes}\")\n",
    "values = []\n",
    "for i in range(num_nodes):\n",
    "    value = int(input(f\"Enter the value for node {i}: \"))\n",
    "    values.append(value)\n",
    "\n",
    "for node in range(num_nodes):\n",
    "    minimax_value = minimax(node, depth, True, values)\n",
    "    print(f\"Minimax value of node {node}: {minimax_value}\")\n"
   ]
  }
 ],
 "metadata": {
  "kernelspec": {
   "display_name": "Python 3",
   "language": "python",
   "name": "python3"
  },
  "language_info": {
   "codemirror_mode": {
    "name": "ipython",
    "version": 3
   },
   "file_extension": ".py",
   "mimetype": "text/x-python",
   "name": "python",
   "nbconvert_exporter": "python",
   "pygments_lexer": "ipython3",
   "version": "3.10.13"
  }
 },
 "nbformat": 4,
 "nbformat_minor": 2
}
